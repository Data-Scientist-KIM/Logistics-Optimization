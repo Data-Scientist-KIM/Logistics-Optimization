{
 "cells": [
  {
   "cell_type": "markdown",
   "id": "3fc149c4",
   "metadata": {},
   "source": [
    "# 물류 유통량 예측(Distribution volume of logistics Analysis)"
   ]
  },
  {
   "cell_type": "markdown",
   "id": "40bbdc22",
   "metadata": {},
   "source": [
    "## 문제상황  \n",
    "\n",
    "A물류업체는 상/하차 과정에서 물품 파손 등에 대한 고객 클레임 건수가 증가하고 있다. 물품의 특성마다 조심해야하는 부분이 다르기 때문에  \n",
    "여간 힘든 일이 아니다. 따라서 A사는 특정 물품이 많이 배송되는 지역들을 구분하고 용도에 맞는 적절한 택배차량을 선정하여 배송을 운영하려고 한다."
   ]
  },
  {
   "cell_type": "markdown",
   "id": "80177c6e",
   "metadata": {},
   "source": [
    "## 문제 해결 프로세스  \n",
    "\n",
    "1. 문제정의\n",
    "\n",
    "- 상품 배송 고객 Claim건수 증가, 물품 파손 건수 증가\n",
    "\n",
    "2. 기대효과\n",
    "\n",
    "- 고객 Claim건수 감소, 물품 파손 건수 감소   \n",
    "\n",
    "3. 해결방안\n",
    "\n",
    "- 지역별 물품 배송량 분석을 통해 적정 차량 배차 및 직원 교육 \n",
    "\n",
    "4. 성과측정\n",
    "\n",
    "- 배송 운영 후 Claim건수 모니터링 "
   ]
  },
  {
   "cell_type": "code",
   "execution_count": 3,
   "id": "364a7445",
   "metadata": {},
   "outputs": [
    {
     "data": {
      "text/html": [
       "<div>\n",
       "<style scoped>\n",
       "    .dataframe tbody tr th:only-of-type {\n",
       "        vertical-align: middle;\n",
       "    }\n",
       "\n",
       "    .dataframe tbody tr th {\n",
       "        vertical-align: top;\n",
       "    }\n",
       "\n",
       "    .dataframe thead th {\n",
       "        text-align: right;\n",
       "    }\n",
       "</style>\n",
       "<table border=\"1\" class=\"dataframe\">\n",
       "  <thead>\n",
       "    <tr style=\"text-align: right;\">\n",
       "      <th></th>\n",
       "      <th>index</th>\n",
       "      <th>송하인_격자공간고유번호</th>\n",
       "      <th>수하인_격자공간고유번호</th>\n",
       "      <th>물품_카테고리</th>\n",
       "      <th>운송장_건수</th>\n",
       "    </tr>\n",
       "  </thead>\n",
       "  <tbody>\n",
       "    <tr>\n",
       "      <th>0</th>\n",
       "      <td>0</td>\n",
       "      <td>5011000595017300</td>\n",
       "      <td>2871000192069300</td>\n",
       "      <td>음반</td>\n",
       "      <td>3</td>\n",
       "    </tr>\n",
       "    <tr>\n",
       "      <th>1</th>\n",
       "      <td>1</td>\n",
       "      <td>4148000690043300</td>\n",
       "      <td>5011000264024400</td>\n",
       "      <td>문화컨텐츠</td>\n",
       "      <td>3</td>\n",
       "    </tr>\n",
       "    <tr>\n",
       "      <th>2</th>\n",
       "      <td>2</td>\n",
       "      <td>5011000078068400</td>\n",
       "      <td>1120000007005400</td>\n",
       "      <td>농산물</td>\n",
       "      <td>3</td>\n",
       "    </tr>\n",
       "    <tr>\n",
       "      <th>3</th>\n",
       "      <td>3</td>\n",
       "      <td>4127100048006400</td>\n",
       "      <td>5011000587019400</td>\n",
       "      <td>기타식품</td>\n",
       "      <td>7</td>\n",
       "    </tr>\n",
       "    <tr>\n",
       "      <th>4</th>\n",
       "      <td>4</td>\n",
       "      <td>5011000078068400</td>\n",
       "      <td>2823700010076300</td>\n",
       "      <td>농산물</td>\n",
       "      <td>3</td>\n",
       "    </tr>\n",
       "    <tr>\n",
       "      <th>5</th>\n",
       "      <td>5</td>\n",
       "      <td>5013000778073200</td>\n",
       "      <td>4159000114016400</td>\n",
       "      <td>농산물</td>\n",
       "      <td>6</td>\n",
       "    </tr>\n",
       "    <tr>\n",
       "      <th>6</th>\n",
       "      <td>6</td>\n",
       "      <td>5011000316024300</td>\n",
       "      <td>4827000369060200</td>\n",
       "      <td>수산</td>\n",
       "      <td>5</td>\n",
       "    </tr>\n",
       "    <tr>\n",
       "      <th>7</th>\n",
       "      <td>7</td>\n",
       "      <td>5013000740006400</td>\n",
       "      <td>4111700017039400</td>\n",
       "      <td>농산물</td>\n",
       "      <td>3</td>\n",
       "    </tr>\n",
       "    <tr>\n",
       "      <th>8</th>\n",
       "      <td>8</td>\n",
       "      <td>4136000209094100</td>\n",
       "      <td>5013000823053400</td>\n",
       "      <td>아우터</td>\n",
       "      <td>3</td>\n",
       "    </tr>\n",
       "    <tr>\n",
       "      <th>9</th>\n",
       "      <td>9</td>\n",
       "      <td>5011000315056100</td>\n",
       "      <td>4127100026035200</td>\n",
       "      <td>농산물</td>\n",
       "      <td>8</td>\n",
       "    </tr>\n",
       "  </tbody>\n",
       "</table>\n",
       "</div>"
      ],
      "text/plain": [
       "   index      송하인_격자공간고유번호      수하인_격자공간고유번호 물품_카테고리  운송장_건수\n",
       "0      0  5011000595017300  2871000192069300      음반       3\n",
       "1      1  4148000690043300  5011000264024400   문화컨텐츠       3\n",
       "2      2  5011000078068400  1120000007005400     농산물       3\n",
       "3      3  4127100048006400  5011000587019400    기타식품       7\n",
       "4      4  5011000078068400  2823700010076300     농산물       3\n",
       "5      5  5013000778073200  4159000114016400     농산물       6\n",
       "6      6  5011000316024300  4827000369060200      수산       5\n",
       "7      7  5013000740006400  4111700017039400     농산물       3\n",
       "8      8  4136000209094100  5013000823053400     아우터       3\n",
       "9      9  5011000315056100  4127100026035200     농산물       8"
      ]
     },
     "execution_count": 3,
     "metadata": {},
     "output_type": "execute_result"
    }
   ],
   "source": [
    "import pandas as pd\n",
    "import warnings\n",
    "warnings.filterwarnings('ignore')\n",
    "\n",
    "df = pd.read_csv('C:/Users/USER/Desktop/Practice Project - ML/물류 유통량 예측/물류 유통량 예측.csv', encoding='cp949')\n",
    "df.head(10)"
   ]
  },
  {
   "cell_type": "code",
   "execution_count": 4,
   "id": "b590103d",
   "metadata": {},
   "outputs": [
    {
     "name": "stdout",
     "output_type": "stream",
     "text": [
      "<class 'pandas.core.frame.DataFrame'>\n",
      "RangeIndex: 31684 entries, 0 to 31683\n",
      "Data columns (total 5 columns):\n",
      " #   Column        Non-Null Count  Dtype \n",
      "---  ------        --------------  ----- \n",
      " 0   index         31684 non-null  int64 \n",
      " 1   송하인_격자공간고유번호  31684 non-null  int64 \n",
      " 2   수하인_격자공간고유번호  31684 non-null  int64 \n",
      " 3   물품_카테고리       31684 non-null  object\n",
      " 4   운송장_건수        31684 non-null  int64 \n",
      "dtypes: int64(4), object(1)\n",
      "memory usage: 1.2+ MB\n"
     ]
    }
   ],
   "source": [
    "df.info()"
   ]
  },
  {
   "cell_type": "code",
   "execution_count": 5,
   "id": "6c381e69",
   "metadata": {},
   "outputs": [
    {
     "data": {
      "text/plain": [
       "index           0\n",
       "송하인_격자공간고유번호    0\n",
       "수하인_격자공간고유번호    0\n",
       "물품_카테고리         0\n",
       "운송장_건수          0\n",
       "dtype: int64"
      ]
     },
     "execution_count": 5,
     "metadata": {},
     "output_type": "execute_result"
    }
   ],
   "source": [
    "df.isnull().sum()"
   ]
  },
  {
   "cell_type": "markdown",
   "id": "84857241",
   "metadata": {},
   "source": [
    "#### 변수 해석 3가지  \n",
    "\n",
    "1. 결측치 존재 여부\n",
    "\n",
    "- 전체 데이터에서 모든 변수에 결측치가 존재하지 않는다.\n",
    "\n",
    "- 결측치의 개수는 전체 5% 미만이면 보통 제거한다.\n",
    "\n",
    "- 결측치를 대체하는 경우, object형태는 최빈값으로 대체하고, int64, float64형태는 평균으로 대체하거나 KNN을 사용할 수 있다.\n",
    "\n",
    "2. 데이터 타입 설명\n",
    "\n",
    "- 종속변수는 int64형태, 독립변수는 int64형태, object형태로 구성되어 있다.\n",
    "\n",
    "3. 컬럼 설명\n",
    "\n",
    "- 송하인_격자공간고유번호 : 출발지 정보\n",
    "- 수하인_격자공간고유번호 : 도착지 정보\n",
    "- 물품_카테고리 : 물품_카테고리\n",
    "- 운송장_건수 : 운송장_건수"
   ]
  },
  {
   "cell_type": "code",
   "execution_count": 6,
   "id": "b4b601b6",
   "metadata": {},
   "outputs": [
    {
     "data": {
      "text/html": [
       "<div>\n",
       "<style scoped>\n",
       "    .dataframe tbody tr th:only-of-type {\n",
       "        vertical-align: middle;\n",
       "    }\n",
       "\n",
       "    .dataframe tbody tr th {\n",
       "        vertical-align: top;\n",
       "    }\n",
       "\n",
       "    .dataframe thead th {\n",
       "        text-align: right;\n",
       "    }\n",
       "</style>\n",
       "<table border=\"1\" class=\"dataframe\">\n",
       "  <thead>\n",
       "    <tr style=\"text-align: right;\">\n",
       "      <th></th>\n",
       "      <th>index</th>\n",
       "      <th>송하인_격자공간고유번호</th>\n",
       "      <th>수하인_격자공간고유번호</th>\n",
       "      <th>운송장_건수</th>\n",
       "    </tr>\n",
       "  </thead>\n",
       "  <tbody>\n",
       "    <tr>\n",
       "      <th>count</th>\n",
       "      <td>31684.000000</td>\n",
       "      <td>3.168400e+04</td>\n",
       "      <td>3.168400e+04</td>\n",
       "      <td>31684.000000</td>\n",
       "    </tr>\n",
       "    <tr>\n",
       "      <th>mean</th>\n",
       "      <td>15841.500000</td>\n",
       "      <td>4.648814e+15</td>\n",
       "      <td>3.801369e+15</td>\n",
       "      <td>4.879308</td>\n",
       "    </tr>\n",
       "    <tr>\n",
       "      <th>std</th>\n",
       "      <td>9146.527301</td>\n",
       "      <td>8.341336e+14</td>\n",
       "      <td>1.314660e+15</td>\n",
       "      <td>6.756473</td>\n",
       "    </tr>\n",
       "    <tr>\n",
       "      <th>min</th>\n",
       "      <td>0.000000</td>\n",
       "      <td>1.111000e+15</td>\n",
       "      <td>1.111000e+15</td>\n",
       "      <td>3.000000</td>\n",
       "    </tr>\n",
       "    <tr>\n",
       "      <th>25%</th>\n",
       "      <td>7920.750000</td>\n",
       "      <td>4.713000e+15</td>\n",
       "      <td>2.826000e+15</td>\n",
       "      <td>3.000000</td>\n",
       "    </tr>\n",
       "    <tr>\n",
       "      <th>50%</th>\n",
       "      <td>15841.500000</td>\n",
       "      <td>5.011000e+15</td>\n",
       "      <td>4.159000e+15</td>\n",
       "      <td>3.000000</td>\n",
       "    </tr>\n",
       "    <tr>\n",
       "      <th>75%</th>\n",
       "      <td>23762.250000</td>\n",
       "      <td>5.013001e+15</td>\n",
       "      <td>5.011000e+15</td>\n",
       "      <td>5.000000</td>\n",
       "    </tr>\n",
       "    <tr>\n",
       "      <th>max</th>\n",
       "      <td>31683.000000</td>\n",
       "      <td>5.013001e+15</td>\n",
       "      <td>5.013001e+15</td>\n",
       "      <td>413.000000</td>\n",
       "    </tr>\n",
       "  </tbody>\n",
       "</table>\n",
       "</div>"
      ],
      "text/plain": [
       "              index  송하인_격자공간고유번호  수하인_격자공간고유번호        운송장_건수\n",
       "count  31684.000000  3.168400e+04  3.168400e+04  31684.000000\n",
       "mean   15841.500000  4.648814e+15  3.801369e+15      4.879308\n",
       "std     9146.527301  8.341336e+14  1.314660e+15      6.756473\n",
       "min        0.000000  1.111000e+15  1.111000e+15      3.000000\n",
       "25%     7920.750000  4.713000e+15  2.826000e+15      3.000000\n",
       "50%    15841.500000  5.011000e+15  4.159000e+15      3.000000\n",
       "75%    23762.250000  5.013001e+15  5.011000e+15      5.000000\n",
       "max    31683.000000  5.013001e+15  5.013001e+15    413.000000"
      ]
     },
     "execution_count": 6,
     "metadata": {},
     "output_type": "execute_result"
    }
   ],
   "source": [
    "df.describe()"
   ]
  },
  {
   "cell_type": "markdown",
   "id": "822b665d",
   "metadata": {},
   "source": [
    "우선 describe로 이상치를 판단하기 위해서는 mean, min, max 값을 확인하는 것이 좋다. mean과 min, mean과 max 값이 std에 비해 한참 차이가 난다면, 이상치가 있을 가능성이 높다. 이러한 이상치를 정확히 판단하기 위해서는 아래와 같이 boxplot으로 시각화하여 보는 것이 정확하다."
   ]
  },
  {
   "cell_type": "code",
   "execution_count": 14,
   "id": "1306ca52",
   "metadata": {},
   "outputs": [
    {
     "data": {
      "text/html": [
       "<div>\n",
       "<style scoped>\n",
       "    .dataframe tbody tr th:only-of-type {\n",
       "        vertical-align: middle;\n",
       "    }\n",
       "\n",
       "    .dataframe tbody tr th {\n",
       "        vertical-align: top;\n",
       "    }\n",
       "\n",
       "    .dataframe thead th {\n",
       "        text-align: right;\n",
       "    }\n",
       "</style>\n",
       "<table border=\"1\" class=\"dataframe\">\n",
       "  <thead>\n",
       "    <tr style=\"text-align: right;\">\n",
       "      <th></th>\n",
       "      <th>index</th>\n",
       "      <th>송하인_격자공간고유번호</th>\n",
       "      <th>수하인_격자공간고유번호</th>\n",
       "      <th>운송장_건수</th>\n",
       "    </tr>\n",
       "  </thead>\n",
       "  <tbody>\n",
       "    <tr>\n",
       "      <th>0</th>\n",
       "      <td>0</td>\n",
       "      <td>5011000595017300</td>\n",
       "      <td>2871000192069300</td>\n",
       "      <td>3</td>\n",
       "    </tr>\n",
       "    <tr>\n",
       "      <th>1</th>\n",
       "      <td>1</td>\n",
       "      <td>4148000690043300</td>\n",
       "      <td>5011000264024400</td>\n",
       "      <td>3</td>\n",
       "    </tr>\n",
       "    <tr>\n",
       "      <th>2</th>\n",
       "      <td>2</td>\n",
       "      <td>5011000078068400</td>\n",
       "      <td>1120000007005400</td>\n",
       "      <td>3</td>\n",
       "    </tr>\n",
       "    <tr>\n",
       "      <th>3</th>\n",
       "      <td>3</td>\n",
       "      <td>4127100048006400</td>\n",
       "      <td>5011000587019400</td>\n",
       "      <td>7</td>\n",
       "    </tr>\n",
       "    <tr>\n",
       "      <th>4</th>\n",
       "      <td>4</td>\n",
       "      <td>5011000078068400</td>\n",
       "      <td>2823700010076300</td>\n",
       "      <td>3</td>\n",
       "    </tr>\n",
       "    <tr>\n",
       "      <th>...</th>\n",
       "      <td>...</td>\n",
       "      <td>...</td>\n",
       "      <td>...</td>\n",
       "      <td>...</td>\n",
       "    </tr>\n",
       "    <tr>\n",
       "      <th>31679</th>\n",
       "      <td>31679</td>\n",
       "      <td>4471000290087200</td>\n",
       "      <td>5011000213073200</td>\n",
       "      <td>3</td>\n",
       "    </tr>\n",
       "    <tr>\n",
       "      <th>31680</th>\n",
       "      <td>31680</td>\n",
       "      <td>1129000014045300</td>\n",
       "      <td>5011000319087100</td>\n",
       "      <td>4</td>\n",
       "    </tr>\n",
       "    <tr>\n",
       "      <th>31681</th>\n",
       "      <td>31681</td>\n",
       "      <td>1129000014045300</td>\n",
       "      <td>5011000263065200</td>\n",
       "      <td>6</td>\n",
       "    </tr>\n",
       "    <tr>\n",
       "      <th>31682</th>\n",
       "      <td>31682</td>\n",
       "      <td>4127300065073100</td>\n",
       "      <td>5011000264061200</td>\n",
       "      <td>7</td>\n",
       "    </tr>\n",
       "    <tr>\n",
       "      <th>31683</th>\n",
       "      <td>31683</td>\n",
       "      <td>2811000139076100</td>\n",
       "      <td>5011000520070100</td>\n",
       "      <td>4</td>\n",
       "    </tr>\n",
       "  </tbody>\n",
       "</table>\n",
       "<p>31684 rows × 4 columns</p>\n",
       "</div>"
      ],
      "text/plain": [
       "       index      송하인_격자공간고유번호      수하인_격자공간고유번호  운송장_건수\n",
       "0          0  5011000595017300  2871000192069300       3\n",
       "1          1  4148000690043300  5011000264024400       3\n",
       "2          2  5011000078068400  1120000007005400       3\n",
       "3          3  4127100048006400  5011000587019400       7\n",
       "4          4  5011000078068400  2823700010076300       3\n",
       "...      ...               ...               ...     ...\n",
       "31679  31679  4471000290087200  5011000213073200       3\n",
       "31680  31680  1129000014045300  5011000319087100       4\n",
       "31681  31681  1129000014045300  5011000263065200       6\n",
       "31682  31682  4127300065073100  5011000264061200       7\n",
       "31683  31683  2811000139076100  5011000520070100       4\n",
       "\n",
       "[31684 rows x 4 columns]"
      ]
     },
     "execution_count": 14,
     "metadata": {},
     "output_type": "execute_result"
    }
   ],
   "source": [
    "df_n = df.select_dtypes(exclude = 'object')\n",
    "df_n"
   ]
  },
  {
   "cell_type": "code",
   "execution_count": 15,
   "id": "f2ae51d2",
   "metadata": {},
   "outputs": [
    {
     "data": {
      "text/html": [
       "<div>\n",
       "<style scoped>\n",
       "    .dataframe tbody tr th:only-of-type {\n",
       "        vertical-align: middle;\n",
       "    }\n",
       "\n",
       "    .dataframe tbody tr th {\n",
       "        vertical-align: top;\n",
       "    }\n",
       "\n",
       "    .dataframe thead th {\n",
       "        text-align: right;\n",
       "    }\n",
       "</style>\n",
       "<table border=\"1\" class=\"dataframe\">\n",
       "  <thead>\n",
       "    <tr style=\"text-align: right;\">\n",
       "      <th></th>\n",
       "      <th>이상치 탐색 변수</th>\n",
       "      <th>이상치 탐색 값</th>\n",
       "    </tr>\n",
       "  </thead>\n",
       "  <tbody>\n",
       "    <tr>\n",
       "      <th>0</th>\n",
       "      <td>index</td>\n",
       "      <td>0</td>\n",
       "    </tr>\n",
       "    <tr>\n",
       "      <th>1</th>\n",
       "      <td>index</td>\n",
       "      <td>1</td>\n",
       "    </tr>\n",
       "    <tr>\n",
       "      <th>2</th>\n",
       "      <td>index</td>\n",
       "      <td>2</td>\n",
       "    </tr>\n",
       "    <tr>\n",
       "      <th>3</th>\n",
       "      <td>index</td>\n",
       "      <td>3</td>\n",
       "    </tr>\n",
       "    <tr>\n",
       "      <th>4</th>\n",
       "      <td>index</td>\n",
       "      <td>4</td>\n",
       "    </tr>\n",
       "    <tr>\n",
       "      <th>...</th>\n",
       "      <td>...</td>\n",
       "      <td>...</td>\n",
       "    </tr>\n",
       "    <tr>\n",
       "      <th>126731</th>\n",
       "      <td>운송장_건수</td>\n",
       "      <td>3</td>\n",
       "    </tr>\n",
       "    <tr>\n",
       "      <th>126732</th>\n",
       "      <td>운송장_건수</td>\n",
       "      <td>4</td>\n",
       "    </tr>\n",
       "    <tr>\n",
       "      <th>126733</th>\n",
       "      <td>운송장_건수</td>\n",
       "      <td>6</td>\n",
       "    </tr>\n",
       "    <tr>\n",
       "      <th>126734</th>\n",
       "      <td>운송장_건수</td>\n",
       "      <td>7</td>\n",
       "    </tr>\n",
       "    <tr>\n",
       "      <th>126735</th>\n",
       "      <td>운송장_건수</td>\n",
       "      <td>4</td>\n",
       "    </tr>\n",
       "  </tbody>\n",
       "</table>\n",
       "<p>126736 rows × 2 columns</p>\n",
       "</div>"
      ],
      "text/plain": [
       "       이상치 탐색 변수  이상치 탐색 값\n",
       "0          index         0\n",
       "1          index         1\n",
       "2          index         2\n",
       "3          index         3\n",
       "4          index         4\n",
       "...          ...       ...\n",
       "126731    운송장_건수         3\n",
       "126732    운송장_건수         4\n",
       "126733    운송장_건수         6\n",
       "126734    운송장_건수         7\n",
       "126735    운송장_건수         4\n",
       "\n",
       "[126736 rows x 2 columns]"
      ]
     },
     "execution_count": 15,
     "metadata": {},
     "output_type": "execute_result"
    }
   ],
   "source": [
    "outlier = pd.melt(df_n, var_name = '이상치 탐색 변수', value_name = '이상치 탐색 값')\n",
    "outlier"
   ]
  },
  {
   "cell_type": "code",
   "execution_count": 16,
   "id": "c5bb3819",
   "metadata": {},
   "outputs": [
    {
     "data": {
      "image/png": "[encoded data removed]",
      "text/plain": [
       "<Figure size 2000x700 with 1 Axes>"
      ]
     },
     "metadata": {},
     "output_type": "display_data"
    }
   ],
   "source": [
    "import seaborn as sns\n",
    "import matplotlib.pyplot as plt\n",
    "%matplotlib inline\n",
    "from matplotlib import rc\n",
    "rc(\"font\", family = 'Malgun Gothic')\n",
    "plt.rcParams['axes.unicode_minus'] = False\n",
    "\n",
    "plt.figure(figsize = (20,7))\n",
    "sns.boxplot(x = '이상치 탐색 변수', y = '이상치 탐색 값', data = outlier)\n",
    "plt.xticks(range(4), df_n.columns)\n",
    "plt.show()"
   ]
  },
  {
   "cell_type": "markdown",
   "id": "915fb08d",
   "metadata": {},
   "source": [
    "이상치를 탐색하기 위해서 수치형 변수들만 선택해서 boxplot으로 시각화하였다. 이상치의 값이 연속적으로 나타나면, 보통 의미있는 값일 확률이 높기 때문에 따로 제거하거나 대체하지 않고, 눈에 띄는 이상치가 있을 경우에는 보통 제거하거나 대체하는 경우가 많다(예를 들어, Age 변수가 999값이 있으면 제거하거나 대체하는 것이 옳다.)"
   ]
  },
  {
   "cell_type": "markdown",
   "id": "e5ed2e53",
   "metadata": {},
   "source": [
    "### 배송 지역 탐색"
   ]
  },
  {
   "cell_type": "code",
   "execution_count": 17,
   "id": "b9535a9f",
   "metadata": {},
   "outputs": [
    {
     "data": {
      "text/html": [
       "<div>\n",
       "<style scoped>\n",
       "    .dataframe tbody tr th:only-of-type {\n",
       "        vertical-align: middle;\n",
       "    }\n",
       "\n",
       "    .dataframe tbody tr th {\n",
       "        vertical-align: top;\n",
       "    }\n",
       "\n",
       "    .dataframe thead th {\n",
       "        text-align: right;\n",
       "    }\n",
       "</style>\n",
       "<table border=\"1\" class=\"dataframe\">\n",
       "  <thead>\n",
       "    <tr style=\"text-align: right;\">\n",
       "      <th></th>\n",
       "      <th>index</th>\n",
       "      <th>start</th>\n",
       "      <th>end</th>\n",
       "      <th>prod</th>\n",
       "      <th>cnt</th>\n",
       "    </tr>\n",
       "  </thead>\n",
       "  <tbody>\n",
       "    <tr>\n",
       "      <th>0</th>\n",
       "      <td>0</td>\n",
       "      <td>5011000595017300</td>\n",
       "      <td>2871000192069300</td>\n",
       "      <td>음반</td>\n",
       "      <td>3</td>\n",
       "    </tr>\n",
       "    <tr>\n",
       "      <th>1</th>\n",
       "      <td>1</td>\n",
       "      <td>4148000690043300</td>\n",
       "      <td>5011000264024400</td>\n",
       "      <td>문화컨텐츠</td>\n",
       "      <td>3</td>\n",
       "    </tr>\n",
       "    <tr>\n",
       "      <th>2</th>\n",
       "      <td>2</td>\n",
       "      <td>5011000078068400</td>\n",
       "      <td>1120000007005400</td>\n",
       "      <td>농산물</td>\n",
       "      <td>3</td>\n",
       "    </tr>\n",
       "    <tr>\n",
       "      <th>3</th>\n",
       "      <td>3</td>\n",
       "      <td>4127100048006400</td>\n",
       "      <td>5011000587019400</td>\n",
       "      <td>기타식품</td>\n",
       "      <td>7</td>\n",
       "    </tr>\n",
       "    <tr>\n",
       "      <th>4</th>\n",
       "      <td>4</td>\n",
       "      <td>5011000078068400</td>\n",
       "      <td>2823700010076300</td>\n",
       "      <td>농산물</td>\n",
       "      <td>3</td>\n",
       "    </tr>\n",
       "  </tbody>\n",
       "</table>\n",
       "</div>"
      ],
      "text/plain": [
       "   index             start               end   prod  cnt\n",
       "0      0  5011000595017300  2871000192069300     음반    3\n",
       "1      1  4148000690043300  5011000264024400  문화컨텐츠    3\n",
       "2      2  5011000078068400  1120000007005400    농산물    3\n",
       "3      3  4127100048006400  5011000587019400   기타식품    7\n",
       "4      4  5011000078068400  2823700010076300    농산물    3"
      ]
     },
     "execution_count": 17,
     "metadata": {},
     "output_type": "execute_result"
    }
   ],
   "source": [
    "df.columns = ['index', 'start', 'end', 'prod', 'cnt']\n",
    "df.head(5)"
   ]
  },
  {
   "cell_type": "markdown",
   "id": "745df65a",
   "metadata": {},
   "source": [
    "편리한 사용을 위해 컬럼명을 영어로 재설정한다"
   ]
  },
  {
   "cell_type": "code",
   "execution_count": 18,
   "id": "60c9183a",
   "metadata": {},
   "outputs": [
    {
     "data": {
      "text/plain": [
       "5011000078068400    3882\n",
       "5013000610049100    1790\n",
       "5013000731055200    1235\n",
       "5011000137030100    1137\n",
       "5013000821028200     731\n",
       "                    ... \n",
       "4518000310022200       1\n",
       "5011000428040200       1\n",
       "1162000010086100       1\n",
       "1153000017009300       1\n",
       "5013000468023100       1\n",
       "Name: start, Length: 4229, dtype: int64"
      ]
     },
     "execution_count": 18,
     "metadata": {},
     "output_type": "execute_result"
    }
   ],
   "source": [
    "df['start'].value_counts()"
   ]
  },
  {
   "cell_type": "markdown",
   "id": "725f1780",
   "metadata": {},
   "source": [
    "배송 출발지 = 4,229개"
   ]
  },
  {
   "cell_type": "code",
   "execution_count": 19,
   "id": "0b3073b4",
   "metadata": {},
   "outputs": [
    {
     "data": {
      "text/plain": [
       "5013000635005300    35\n",
       "5011000543041100    33\n",
       "5011000314069300    33\n",
       "5011000318044100    30\n",
       "5011000544072300    30\n",
       "                    ..\n",
       "4812900019042100     1\n",
       "4143000032094100     1\n",
       "1165000020003400     1\n",
       "5011000320081200     1\n",
       "1156000004084300     1\n",
       "Name: end, Length: 26875, dtype: int64"
      ]
     },
     "execution_count": 19,
     "metadata": {},
     "output_type": "execute_result"
    }
   ],
   "source": [
    "df['end'].value_counts()"
   ]
  },
  {
   "cell_type": "markdown",
   "id": "fa2f524b",
   "metadata": {},
   "source": [
    "배송 도착지 = 26,875개  \n",
    "\n",
    "출발지보다 도착지의 지역이 더 많다"
   ]
  },
  {
   "cell_type": "code",
   "execution_count": 22,
   "id": "e44387d6",
   "metadata": {},
   "outputs": [
    {
     "name": "stdout",
     "output_type": "stream",
     "text": [
      "총 지역(출발+배송) :  30455\n"
     ]
    }
   ],
   "source": [
    "all_list = list(df['start']) + list(df['end'])\n",
    "unique_list = set(all_list)\n",
    "print(\"총 지역(출발+배송) : \", len(unique_list))"
   ]
  },
  {
   "cell_type": "markdown",
   "id": "eec94644",
   "metadata": {},
   "source": [
    "### 물품 카테고리 탐색"
   ]
  },
  {
   "cell_type": "code",
   "execution_count": 24,
   "id": "e2bef56a",
   "metadata": {},
   "outputs": [
    {
     "data": {
      "text/plain": [
       "농산물              20321\n",
       "문화컨텐츠             1091\n",
       "음료                1034\n",
       "수산                 860\n",
       "가공식품               846\n",
       "                 ...  \n",
       "스포츠잡화                4\n",
       "기타출산/육아              4\n",
       "선케어                  4\n",
       "태블릿PC/노트북액세서리        4\n",
       "유아가구                 4\n",
       "Name: prod, Length: 100, dtype: int64"
      ]
     },
     "execution_count": 24,
     "metadata": {},
     "output_type": "execute_result"
    }
   ],
   "source": [
    "df['prod'].value_counts()"
   ]
  },
  {
   "cell_type": "markdown",
   "id": "bda3f52a",
   "metadata": {},
   "source": [
    "물품의 종류 = 총 100개의 물품 카테고리"
   ]
  },
  {
   "cell_type": "code",
   "execution_count": 25,
   "id": "802b5a94",
   "metadata": {},
   "outputs": [
    {
     "data": {
      "text/html": [
       "<div>\n",
       "<style scoped>\n",
       "    .dataframe tbody tr th:only-of-type {\n",
       "        vertical-align: middle;\n",
       "    }\n",
       "\n",
       "    .dataframe tbody tr th {\n",
       "        vertical-align: top;\n",
       "    }\n",
       "\n",
       "    .dataframe thead th {\n",
       "        text-align: right;\n",
       "    }\n",
       "</style>\n",
       "<table border=\"1\" class=\"dataframe\">\n",
       "  <thead>\n",
       "    <tr style=\"text-align: right;\">\n",
       "      <th></th>\n",
       "      <th>prod</th>\n",
       "      <th>cnt</th>\n",
       "    </tr>\n",
       "  </thead>\n",
       "  <tbody>\n",
       "    <tr>\n",
       "      <th>27</th>\n",
       "      <td>농산물</td>\n",
       "      <td>87829</td>\n",
       "    </tr>\n",
       "    <tr>\n",
       "      <th>66</th>\n",
       "      <td>음료</td>\n",
       "      <td>5890</td>\n",
       "    </tr>\n",
       "    <tr>\n",
       "      <th>3</th>\n",
       "      <td>가공식품</td>\n",
       "      <td>5766</td>\n",
       "    </tr>\n",
       "    <tr>\n",
       "      <th>34</th>\n",
       "      <td>문화컨텐츠</td>\n",
       "      <td>5429</td>\n",
       "    </tr>\n",
       "    <tr>\n",
       "      <th>51</th>\n",
       "      <td>수산</td>\n",
       "      <td>4880</td>\n",
       "    </tr>\n",
       "    <tr>\n",
       "      <th>17</th>\n",
       "      <td>기타식품</td>\n",
       "      <td>4250</td>\n",
       "    </tr>\n",
       "    <tr>\n",
       "      <th>5</th>\n",
       "      <td>건강식품</td>\n",
       "      <td>3413</td>\n",
       "    </tr>\n",
       "    <tr>\n",
       "      <th>80</th>\n",
       "      <td>축산</td>\n",
       "      <td>3385</td>\n",
       "    </tr>\n",
       "    <tr>\n",
       "      <th>19</th>\n",
       "      <td>기타패션의류</td>\n",
       "      <td>3042</td>\n",
       "    </tr>\n",
       "    <tr>\n",
       "      <th>67</th>\n",
       "      <td>음반</td>\n",
       "      <td>2357</td>\n",
       "    </tr>\n",
       "    <tr>\n",
       "      <th>11</th>\n",
       "      <td>과자</td>\n",
       "      <td>1866</td>\n",
       "    </tr>\n",
       "    <tr>\n",
       "      <th>25</th>\n",
       "      <td>냉동/간편조리식품</td>\n",
       "      <td>1787</td>\n",
       "    </tr>\n",
       "    <tr>\n",
       "      <th>77</th>\n",
       "      <td>주방용품</td>\n",
       "      <td>1776</td>\n",
       "    </tr>\n",
       "    <tr>\n",
       "      <th>44</th>\n",
       "      <td>생활용품</td>\n",
       "      <td>1599</td>\n",
       "    </tr>\n",
       "    <tr>\n",
       "      <th>6</th>\n",
       "      <td>건강용품</td>\n",
       "      <td>1554</td>\n",
       "    </tr>\n",
       "    <tr>\n",
       "      <th>15</th>\n",
       "      <td>기타디지털/가전</td>\n",
       "      <td>1505</td>\n",
       "    </tr>\n",
       "    <tr>\n",
       "      <th>36</th>\n",
       "      <td>반려동물</td>\n",
       "      <td>1388</td>\n",
       "    </tr>\n",
       "    <tr>\n",
       "      <th>33</th>\n",
       "      <td>문구/사무용품</td>\n",
       "      <td>1280</td>\n",
       "    </tr>\n",
       "    <tr>\n",
       "      <th>21</th>\n",
       "      <td>기타화장품/미용</td>\n",
       "      <td>1111</td>\n",
       "    </tr>\n",
       "    <tr>\n",
       "      <th>41</th>\n",
       "      <td>상의</td>\n",
       "      <td>1090</td>\n",
       "    </tr>\n",
       "    <tr>\n",
       "      <th>54</th>\n",
       "      <td>스킨케어</td>\n",
       "      <td>1070</td>\n",
       "    </tr>\n",
       "    <tr>\n",
       "      <th>69</th>\n",
       "      <td>의료용품</td>\n",
       "      <td>792</td>\n",
       "    </tr>\n",
       "    <tr>\n",
       "      <th>14</th>\n",
       "      <td>기저귀/물티슈</td>\n",
       "      <td>711</td>\n",
       "    </tr>\n",
       "    <tr>\n",
       "      <th>56</th>\n",
       "      <td>신발</td>\n",
       "      <td>637</td>\n",
       "    </tr>\n",
       "    <tr>\n",
       "      <th>29</th>\n",
       "      <td>다이어트식품</td>\n",
       "      <td>619</td>\n",
       "    </tr>\n",
       "    <tr>\n",
       "      <th>57</th>\n",
       "      <td>아우터</td>\n",
       "      <td>547</td>\n",
       "    </tr>\n",
       "    <tr>\n",
       "      <th>10</th>\n",
       "      <td>공구</td>\n",
       "      <td>532</td>\n",
       "    </tr>\n",
       "    <tr>\n",
       "      <th>83</th>\n",
       "      <td>취미용품</td>\n",
       "      <td>525</td>\n",
       "    </tr>\n",
       "    <tr>\n",
       "      <th>93</th>\n",
       "      <td>하의</td>\n",
       "      <td>496</td>\n",
       "    </tr>\n",
       "    <tr>\n",
       "      <th>23</th>\n",
       "      <td>낚시</td>\n",
       "      <td>386</td>\n",
       "    </tr>\n",
       "  </tbody>\n",
       "</table>\n",
       "</div>"
      ],
      "text/plain": [
       "         prod    cnt\n",
       "27        농산물  87829\n",
       "66         음료   5890\n",
       "3        가공식품   5766\n",
       "34      문화컨텐츠   5429\n",
       "51         수산   4880\n",
       "17       기타식품   4250\n",
       "5        건강식품   3413\n",
       "80         축산   3385\n",
       "19     기타패션의류   3042\n",
       "67         음반   2357\n",
       "11         과자   1866\n",
       "25  냉동/간편조리식품   1787\n",
       "77       주방용품   1776\n",
       "44       생활용품   1599\n",
       "6        건강용품   1554\n",
       "15   기타디지털/가전   1505\n",
       "36       반려동물   1388\n",
       "33    문구/사무용품   1280\n",
       "21   기타화장품/미용   1111\n",
       "41         상의   1090\n",
       "54       스킨케어   1070\n",
       "69       의료용품    792\n",
       "14    기저귀/물티슈    711\n",
       "56         신발    637\n",
       "29     다이어트식품    619\n",
       "57        아우터    547\n",
       "10         공구    532\n",
       "83       취미용품    525\n",
       "93         하의    496\n",
       "23         낚시    386"
      ]
     },
     "execution_count": 25,
     "metadata": {},
     "output_type": "execute_result"
    }
   ],
   "source": [
    "df_cnt = df.groupby('prod', as_index=False)['cnt'].sum()\n",
    "df_cnt = df_cnt.sort_values(by=['cnt'], ascending = False )\n",
    "df_cnt.head(30)"
   ]
  },
  {
   "cell_type": "markdown",
   "id": "89d02865",
   "metadata": {},
   "source": [
    "운송장 건수 기준으로 내림차순 정렬한 결과, 농산물이 가장 배송건수가 많다"
   ]
  },
  {
   "cell_type": "code",
   "execution_count": 26,
   "id": "0dfc2ac1",
   "metadata": {},
   "outputs": [
    {
     "data": {
      "image/png": "[encoded data removed]",
      "text/plain": [
       "<Figure size 2500x500 with 1 Axes>"
      ]
     },
     "metadata": {},
     "output_type": "display_data"
    }
   ],
   "source": [
    "plt.bar(df_cnt['prod'][0:30], df_cnt['cnt'][0:30], label='cnt');\n",
    "plt.xticks(rotation =-20);\n",
    "plt.gcf().set_size_inches(25, 5);"
   ]
  },
  {
   "cell_type": "code",
   "execution_count": 30,
   "id": "44904f1d",
   "metadata": {},
   "outputs": [
    {
     "data": {
      "image/png": "[encoded data removed]",
      "text/plain": [
       "<Figure size 2500x500 with 1 Axes>"
      ]
     },
     "metadata": {},
     "output_type": "display_data"
    }
   ],
   "source": [
    "plt.bar(df_cnt['prod'][1:30], df_cnt['cnt'][1:30], label='cnt');\n",
    "plt.xticks(rotation =-20);\n",
    "plt.gcf().set_size_inches(25, 5);"
   ]
  },
  {
   "cell_type": "markdown",
   "id": "45a30a06",
   "metadata": {},
   "source": [
    "농산물 건수가 다른 물품의 건수 비교 분석을 어렵게 하기 때문에 제거하고 다시 시각화한다"
   ]
  },
  {
   "cell_type": "markdown",
   "id": "7458c713",
   "metadata": {},
   "source": [
    "## 지역별 유통량 탐색"
   ]
  },
  {
   "cell_type": "code",
   "execution_count": 31,
   "id": "64cdecd8",
   "metadata": {},
   "outputs": [
    {
     "data": {
      "text/plain": [
       "5011000078068400    3882\n",
       "5013000610049100    1790\n",
       "5013000731055200    1235\n",
       "5011000137030100    1137\n",
       "5013000821028200     731\n",
       "                    ... \n",
       "4518000310022200       1\n",
       "5011000428040200       1\n",
       "1162000010086100       1\n",
       "1153000017009300       1\n",
       "5013000468023100       1\n",
       "Name: start, Length: 4229, dtype: int64"
      ]
     },
     "execution_count": 31,
     "metadata": {},
     "output_type": "execute_result"
    }
   ],
   "source": [
    "df['start'].value_counts()"
   ]
  },
  {
   "cell_type": "markdown",
   "id": "36298f9e",
   "metadata": {},
   "source": [
    "가장 많이 배송이 출발되는 지역 = 5011000078068400    "
   ]
  },
  {
   "cell_type": "code",
   "execution_count": 32,
   "id": "619bab0f",
   "metadata": {},
   "outputs": [
    {
     "data": {
      "text/plain": [
       "0.7936182300214619"
      ]
     },
     "execution_count": 32,
     "metadata": {},
     "output_type": "execute_result"
    }
   ],
   "source": [
    "df['start'].value_counts().head(500).sum() / df['start'].value_counts().sum()"
   ]
  },
  {
   "cell_type": "markdown",
   "id": "0cbc2fc7",
   "metadata": {},
   "source": [
    "출발지 기준 상위 500개의 장소에서 전체 배송건수에 80%이상을 조달함을 확인할 수 있다"
   ]
  },
  {
   "cell_type": "code",
   "execution_count": 33,
   "id": "b9d25cc4",
   "metadata": {},
   "outputs": [
    {
     "data": {
      "text/plain": [
       "5013000635005300    35\n",
       "5011000543041100    33\n",
       "5011000314069300    33\n",
       "5011000318044100    30\n",
       "5011000544072300    30\n",
       "                    ..\n",
       "4812900019042100     1\n",
       "4143000032094100     1\n",
       "1165000020003400     1\n",
       "5011000320081200     1\n",
       "1156000004084300     1\n",
       "Name: end, Length: 26875, dtype: int64"
      ]
     },
     "execution_count": 33,
     "metadata": {},
     "output_type": "execute_result"
    }
   ],
   "source": [
    "df['end'].value_counts()"
   ]
  },
  {
   "cell_type": "markdown",
   "id": "108dd139",
   "metadata": {},
   "source": [
    "가장 많이 배송이 도착되는 지역 = 5013000635005300    "
   ]
  },
  {
   "cell_type": "code",
   "execution_count": 34,
   "id": "e94a159d",
   "metadata": {},
   "outputs": [
    {
     "data": {
      "text/plain": [
       "0.7987943441484661"
      ]
     },
     "execution_count": 34,
     "metadata": {},
     "output_type": "execute_result"
    }
   ],
   "source": [
    "df['end'].value_counts().head(20500).sum() / df['end'].value_counts().sum()"
   ]
  },
  {
   "cell_type": "markdown",
   "id": "af197d21",
   "metadata": {},
   "source": [
    "도착지 기준 상위 약 20,000개의 장소에서 전체 배송건수에 80%이상을 조달함을 확인할 수 있다"
   ]
  },
  {
   "cell_type": "code",
   "execution_count": 35,
   "id": "995f2a7b",
   "metadata": {},
   "outputs": [
    {
     "data": {
      "text/html": [
       "<div>\n",
       "<style scoped>\n",
       "    .dataframe tbody tr th:only-of-type {\n",
       "        vertical-align: middle;\n",
       "    }\n",
       "\n",
       "    .dataframe tbody tr th {\n",
       "        vertical-align: top;\n",
       "    }\n",
       "\n",
       "    .dataframe thead th {\n",
       "        text-align: right;\n",
       "    }\n",
       "</style>\n",
       "<table border=\"1\" class=\"dataframe\">\n",
       "  <thead>\n",
       "    <tr style=\"text-align: right;\">\n",
       "      <th></th>\n",
       "      <th>start</th>\n",
       "      <th>end</th>\n",
       "      <th>total</th>\n",
       "    </tr>\n",
       "  </thead>\n",
       "  <tbody>\n",
       "    <tr>\n",
       "      <th>1111000004097200</th>\n",
       "      <td>0.0</td>\n",
       "      <td>1.0</td>\n",
       "      <td>1.0</td>\n",
       "    </tr>\n",
       "    <tr>\n",
       "      <th>1111000005062300</th>\n",
       "      <td>0.0</td>\n",
       "      <td>1.0</td>\n",
       "      <td>1.0</td>\n",
       "    </tr>\n",
       "    <tr>\n",
       "      <th>1111000005067400</th>\n",
       "      <td>0.0</td>\n",
       "      <td>1.0</td>\n",
       "      <td>1.0</td>\n",
       "    </tr>\n",
       "    <tr>\n",
       "      <th>1111000007059100</th>\n",
       "      <td>0.0</td>\n",
       "      <td>1.0</td>\n",
       "      <td>1.0</td>\n",
       "    </tr>\n",
       "    <tr>\n",
       "      <th>1111000007071100</th>\n",
       "      <td>0.0</td>\n",
       "      <td>1.0</td>\n",
       "      <td>1.0</td>\n",
       "    </tr>\n",
       "  </tbody>\n",
       "</table>\n",
       "</div>"
      ],
      "text/plain": [
       "                  start  end  total\n",
       "1111000004097200    0.0  1.0    1.0\n",
       "1111000005062300    0.0  1.0    1.0\n",
       "1111000005067400    0.0  1.0    1.0\n",
       "1111000007059100    0.0  1.0    1.0\n",
       "1111000007071100    0.0  1.0    1.0"
      ]
     },
     "execution_count": 35,
     "metadata": {},
     "output_type": "execute_result"
    }
   ],
   "source": [
    "df_start_end = pd.DataFrame({'start' : df['start'].value_counts(), 'end': df['end'].value_counts()})\n",
    "df_start_end.fillna(0, inplace = True)\n",
    "df_start_end['total'] = df_start_end['start'] + df_start_end['end']\n",
    "df_start_end.head(5)"
   ]
  },
  {
   "cell_type": "code",
   "execution_count": 36,
   "id": "08b635e7",
   "metadata": {},
   "outputs": [
    {
     "data": {
      "text/html": [
       "<div>\n",
       "<style scoped>\n",
       "    .dataframe tbody tr th:only-of-type {\n",
       "        vertical-align: middle;\n",
       "    }\n",
       "\n",
       "    .dataframe tbody tr th {\n",
       "        vertical-align: top;\n",
       "    }\n",
       "\n",
       "    .dataframe thead th {\n",
       "        text-align: right;\n",
       "    }\n",
       "</style>\n",
       "<table border=\"1\" class=\"dataframe\">\n",
       "  <thead>\n",
       "    <tr style=\"text-align: right;\">\n",
       "      <th></th>\n",
       "      <th>start</th>\n",
       "      <th>end</th>\n",
       "      <th>total</th>\n",
       "    </tr>\n",
       "  </thead>\n",
       "  <tbody>\n",
       "    <tr>\n",
       "      <th>5011000078068400</th>\n",
       "      <td>3882.0</td>\n",
       "      <td>14.0</td>\n",
       "      <td>3896.0</td>\n",
       "    </tr>\n",
       "    <tr>\n",
       "      <th>5013000610049100</th>\n",
       "      <td>1790.0</td>\n",
       "      <td>0.0</td>\n",
       "      <td>1790.0</td>\n",
       "    </tr>\n",
       "    <tr>\n",
       "      <th>5013000731055200</th>\n",
       "      <td>1235.0</td>\n",
       "      <td>0.0</td>\n",
       "      <td>1235.0</td>\n",
       "    </tr>\n",
       "    <tr>\n",
       "      <th>5011000137030100</th>\n",
       "      <td>1137.0</td>\n",
       "      <td>2.0</td>\n",
       "      <td>1139.0</td>\n",
       "    </tr>\n",
       "    <tr>\n",
       "      <th>5013000821028200</th>\n",
       "      <td>731.0</td>\n",
       "      <td>0.0</td>\n",
       "      <td>731.0</td>\n",
       "    </tr>\n",
       "    <tr>\n",
       "      <th>4148000690015300</th>\n",
       "      <td>582.0</td>\n",
       "      <td>0.0</td>\n",
       "      <td>582.0</td>\n",
       "    </tr>\n",
       "    <tr>\n",
       "      <th>5013000777063100</th>\n",
       "      <td>475.0</td>\n",
       "      <td>0.0</td>\n",
       "      <td>475.0</td>\n",
       "    </tr>\n",
       "    <tr>\n",
       "      <th>5011000595017300</th>\n",
       "      <td>462.0</td>\n",
       "      <td>1.0</td>\n",
       "      <td>463.0</td>\n",
       "    </tr>\n",
       "    <tr>\n",
       "      <th>5011000213090100</th>\n",
       "      <td>454.0</td>\n",
       "      <td>3.0</td>\n",
       "      <td>457.0</td>\n",
       "    </tr>\n",
       "    <tr>\n",
       "      <th>5011000685067100</th>\n",
       "      <td>453.0</td>\n",
       "      <td>0.0</td>\n",
       "      <td>453.0</td>\n",
       "    </tr>\n",
       "  </tbody>\n",
       "</table>\n",
       "</div>"
      ],
      "text/plain": [
       "                   start   end   total\n",
       "5011000078068400  3882.0  14.0  3896.0\n",
       "5013000610049100  1790.0   0.0  1790.0\n",
       "5013000731055200  1235.0   0.0  1235.0\n",
       "5011000137030100  1137.0   2.0  1139.0\n",
       "5013000821028200   731.0   0.0   731.0\n",
       "4148000690015300   582.0   0.0   582.0\n",
       "5013000777063100   475.0   0.0   475.0\n",
       "5011000595017300   462.0   1.0   463.0\n",
       "5011000213090100   454.0   3.0   457.0\n",
       "5011000685067100   453.0   0.0   453.0"
      ]
     },
     "execution_count": 36,
     "metadata": {},
     "output_type": "execute_result"
    }
   ],
   "source": [
    "df_start_end.sort_values(by=['total'], ascending = False).head(10)"
   ]
  },
  {
   "cell_type": "markdown",
   "id": "93ce292a",
   "metadata": {},
   "source": [
    "출발 및 도착 건수가 가장 많은 지역 = 5011000078068400"
   ]
  },
  {
   "cell_type": "code",
   "execution_count": 39,
   "id": "5cb8262d",
   "metadata": {},
   "outputs": [
    {
     "data": {
      "text/html": [
       "<div>\n",
       "<style scoped>\n",
       "    .dataframe tbody tr th:only-of-type {\n",
       "        vertical-align: middle;\n",
       "    }\n",
       "\n",
       "    .dataframe tbody tr th {\n",
       "        vertical-align: top;\n",
       "    }\n",
       "\n",
       "    .dataframe thead th {\n",
       "        text-align: right;\n",
       "    }\n",
       "</style>\n",
       "<table border=\"1\" class=\"dataframe\">\n",
       "  <thead>\n",
       "    <tr style=\"text-align: right;\">\n",
       "      <th></th>\n",
       "      <th>start</th>\n",
       "      <th>end</th>\n",
       "      <th>prod</th>\n",
       "    </tr>\n",
       "  </thead>\n",
       "  <tbody>\n",
       "    <tr>\n",
       "      <th>3684</th>\n",
       "      <td>4141000031030100</td>\n",
       "      <td>5013000635005300</td>\n",
       "      <td>7</td>\n",
       "    </tr>\n",
       "    <tr>\n",
       "      <th>6712</th>\n",
       "      <td>4211000650079200</td>\n",
       "      <td>5011000437052400</td>\n",
       "      <td>7</td>\n",
       "    </tr>\n",
       "    <tr>\n",
       "      <th>735</th>\n",
       "      <td>1154500001021400</td>\n",
       "      <td>5011000214025100</td>\n",
       "      <td>5</td>\n",
       "    </tr>\n",
       "    <tr>\n",
       "      <th>3664</th>\n",
       "      <td>4141000031030100</td>\n",
       "      <td>5011000596012200</td>\n",
       "      <td>5</td>\n",
       "    </tr>\n",
       "    <tr>\n",
       "      <th>6962</th>\n",
       "      <td>4374500066090200</td>\n",
       "      <td>5011000427079100</td>\n",
       "      <td>5</td>\n",
       "    </tr>\n",
       "    <tr>\n",
       "      <th>2814</th>\n",
       "      <td>4128500028049400</td>\n",
       "      <td>5011000373021200</td>\n",
       "      <td>4</td>\n",
       "    </tr>\n",
       "    <tr>\n",
       "      <th>14369</th>\n",
       "      <td>5011000228004400</td>\n",
       "      <td>4117300017043200</td>\n",
       "      <td>4</td>\n",
       "    </tr>\n",
       "    <tr>\n",
       "      <th>3536</th>\n",
       "      <td>4141000031030100</td>\n",
       "      <td>5011000318044100</td>\n",
       "      <td>4</td>\n",
       "    </tr>\n",
       "    <tr>\n",
       "      <th>6952</th>\n",
       "      <td>4374000244008400</td>\n",
       "      <td>5011000373055300</td>\n",
       "      <td>4</td>\n",
       "    </tr>\n",
       "    <tr>\n",
       "      <th>3269</th>\n",
       "      <td>4137000019060200</td>\n",
       "      <td>5011000366024400</td>\n",
       "      <td>4</td>\n",
       "    </tr>\n",
       "  </tbody>\n",
       "</table>\n",
       "</div>"
      ],
      "text/plain": [
       "                  start               end  prod\n",
       "3684   4141000031030100  5013000635005300     7\n",
       "6712   4211000650079200  5011000437052400     7\n",
       "735    1154500001021400  5011000214025100     5\n",
       "3664   4141000031030100  5011000596012200     5\n",
       "6962   4374500066090200  5011000427079100     5\n",
       "2814   4128500028049400  5011000373021200     4\n",
       "14369  5011000228004400  4117300017043200     4\n",
       "3536   4141000031030100  5011000318044100     4\n",
       "6952   4374000244008400  5011000373055300     4\n",
       "3269   4137000019060200  5011000366024400     4"
      ]
     },
     "execution_count": 39,
     "metadata": {},
     "output_type": "execute_result"
    }
   ],
   "source": [
    "df_route = df.groupby(['start', 'end'], as_index=False)['prod'].count()\n",
    "df_route.columns = ['start', 'end', 'prod']\n",
    "df_route = df_route.sort_values(by=['prod'], ascending = False)\n",
    "df_route.head(10)"
   ]
  },
  {
   "cell_type": "markdown",
   "id": "8a5e3ee2",
   "metadata": {},
   "source": [
    "물품경로를 분석한 결과, 자주 배송되는 특정 경로 배송이 없다. 이렇게 되면 경로 기준으로 배차를 하는 방법은 사용불가능하다"
   ]
  },
  {
   "cell_type": "code",
   "execution_count": 40,
   "id": "8c3195de",
   "metadata": {},
   "outputs": [
    {
     "data": {
      "text/html": [
       "<div>\n",
       "<style scoped>\n",
       "    .dataframe tbody tr th:only-of-type {\n",
       "        vertical-align: middle;\n",
       "    }\n",
       "\n",
       "    .dataframe tbody tr th {\n",
       "        vertical-align: top;\n",
       "    }\n",
       "\n",
       "    .dataframe thead th {\n",
       "        text-align: right;\n",
       "    }\n",
       "</style>\n",
       "<table border=\"1\" class=\"dataframe\">\n",
       "  <thead>\n",
       "    <tr style=\"text-align: right;\">\n",
       "      <th></th>\n",
       "      <th>index</th>\n",
       "      <th>start</th>\n",
       "      <th>end</th>\n",
       "      <th>prod</th>\n",
       "      <th>cnt</th>\n",
       "    </tr>\n",
       "  </thead>\n",
       "  <tbody>\n",
       "    <tr>\n",
       "      <th>4810</th>\n",
       "      <td>4810</td>\n",
       "      <td>4141000031030100</td>\n",
       "      <td>5013000635005300</td>\n",
       "      <td>주방용품</td>\n",
       "      <td>7</td>\n",
       "    </tr>\n",
       "    <tr>\n",
       "      <th>5657</th>\n",
       "      <td>5657</td>\n",
       "      <td>4141000031030100</td>\n",
       "      <td>5013000635005300</td>\n",
       "      <td>이미용가전</td>\n",
       "      <td>4</td>\n",
       "    </tr>\n",
       "    <tr>\n",
       "      <th>14325</th>\n",
       "      <td>14325</td>\n",
       "      <td>4141000031030100</td>\n",
       "      <td>5013000635005300</td>\n",
       "      <td>스킨케어</td>\n",
       "      <td>7</td>\n",
       "    </tr>\n",
       "    <tr>\n",
       "      <th>17413</th>\n",
       "      <td>17413</td>\n",
       "      <td>4141000031030100</td>\n",
       "      <td>5013000635005300</td>\n",
       "      <td>생활가전</td>\n",
       "      <td>3</td>\n",
       "    </tr>\n",
       "    <tr>\n",
       "      <th>19976</th>\n",
       "      <td>19976</td>\n",
       "      <td>4141000031030100</td>\n",
       "      <td>5013000635005300</td>\n",
       "      <td>음료</td>\n",
       "      <td>3</td>\n",
       "    </tr>\n",
       "    <tr>\n",
       "      <th>20177</th>\n",
       "      <td>20177</td>\n",
       "      <td>4141000031030100</td>\n",
       "      <td>5013000635005300</td>\n",
       "      <td>베이스메이크업</td>\n",
       "      <td>5</td>\n",
       "    </tr>\n",
       "    <tr>\n",
       "      <th>22653</th>\n",
       "      <td>22653</td>\n",
       "      <td>4141000031030100</td>\n",
       "      <td>5013000635005300</td>\n",
       "      <td>상의</td>\n",
       "      <td>3</td>\n",
       "    </tr>\n",
       "  </tbody>\n",
       "</table>\n",
       "</div>"
      ],
      "text/plain": [
       "       index             start               end     prod  cnt\n",
       "4810    4810  4141000031030100  5013000635005300     주방용품    7\n",
       "5657    5657  4141000031030100  5013000635005300    이미용가전    4\n",
       "14325  14325  4141000031030100  5013000635005300     스킨케어    7\n",
       "17413  17413  4141000031030100  5013000635005300     생활가전    3\n",
       "19976  19976  4141000031030100  5013000635005300       음료    3\n",
       "20177  20177  4141000031030100  5013000635005300  베이스메이크업    5\n",
       "22653  22653  4141000031030100  5013000635005300       상의    3"
      ]
     },
     "execution_count": 40,
     "metadata": {},
     "output_type": "execute_result"
    }
   ],
   "source": [
    "df[(df['start']==4141000031030100) & (df['end']==5013000635005300)]"
   ]
  },
  {
   "cell_type": "markdown",
   "id": "ffb04414",
   "metadata": {},
   "source": [
    "가장 많이 배송되는 지역의 물품이 다양하기 때문에 카테고리화도 쉽지 않아보인다"
   ]
  },
  {
   "cell_type": "code",
   "execution_count": 41,
   "id": "2c1e0716",
   "metadata": {},
   "outputs": [
    {
     "data": {
      "text/html": [
       "<div>\n",
       "<style scoped>\n",
       "    .dataframe tbody tr th:only-of-type {\n",
       "        vertical-align: middle;\n",
       "    }\n",
       "\n",
       "    .dataframe tbody tr th {\n",
       "        vertical-align: top;\n",
       "    }\n",
       "\n",
       "    .dataframe thead th {\n",
       "        text-align: right;\n",
       "    }\n",
       "</style>\n",
       "<table border=\"1\" class=\"dataframe\">\n",
       "  <thead>\n",
       "    <tr style=\"text-align: right;\">\n",
       "      <th></th>\n",
       "      <th>prod</th>\n",
       "      <th>cnt</th>\n",
       "    </tr>\n",
       "  </thead>\n",
       "  <tbody>\n",
       "    <tr>\n",
       "      <th>0</th>\n",
       "      <td>건강용품</td>\n",
       "      <td>468</td>\n",
       "    </tr>\n",
       "  </tbody>\n",
       "</table>\n",
       "</div>"
      ],
      "text/plain": [
       "   prod  cnt\n",
       "0  건강용품  468"
      ]
     },
     "execution_count": 41,
     "metadata": {},
     "output_type": "execute_result"
    }
   ],
   "source": [
    " pd.DataFrame(df[df['start']==4141000031030100].groupby('prod')['cnt'].sum().sort_values(ascending=False)).reset_index().head(1)"
   ]
  },
  {
   "cell_type": "markdown",
   "id": "28cc718d",
   "metadata": {},
   "source": [
    "출발 지역에서 가장 많이 배송되는 물품을 대표 물품으로 정의해본다"
   ]
  },
  {
   "cell_type": "code",
   "execution_count": 42,
   "id": "d95a003c",
   "metadata": {},
   "outputs": [],
   "source": [
    "list_of_df = [] \n",
    "\n",
    "for i in list(df['start'].unique()) :\n",
    "    loop_df = pd.DataFrame(df[df['start']==i].groupby('prod')['cnt'].sum().sort_values(ascending=False)).reset_index().head(1)\n",
    "    loop_df['id'] = i\n",
    "    list_of_df.append(loop_df)\n",
    "\n",
    "df_accum_start = pd.concat(list_of_df) "
   ]
  },
  {
   "cell_type": "code",
   "execution_count": 43,
   "id": "eca69d8f",
   "metadata": {},
   "outputs": [
    {
     "data": {
      "text/html": [
       "<div>\n",
       "<style scoped>\n",
       "    .dataframe tbody tr th:only-of-type {\n",
       "        vertical-align: middle;\n",
       "    }\n",
       "\n",
       "    .dataframe tbody tr th {\n",
       "        vertical-align: top;\n",
       "    }\n",
       "\n",
       "    .dataframe thead th {\n",
       "        text-align: right;\n",
       "    }\n",
       "</style>\n",
       "<table border=\"1\" class=\"dataframe\">\n",
       "  <thead>\n",
       "    <tr style=\"text-align: right;\">\n",
       "      <th></th>\n",
       "      <th>prod</th>\n",
       "      <th>cnt</th>\n",
       "      <th>id</th>\n",
       "    </tr>\n",
       "  </thead>\n",
       "  <tbody>\n",
       "    <tr>\n",
       "      <th>0</th>\n",
       "      <td>음반</td>\n",
       "      <td>1652</td>\n",
       "      <td>5011000595017300</td>\n",
       "    </tr>\n",
       "    <tr>\n",
       "      <th>0</th>\n",
       "      <td>문화컨텐츠</td>\n",
       "      <td>383</td>\n",
       "      <td>4148000690043300</td>\n",
       "    </tr>\n",
       "    <tr>\n",
       "      <th>0</th>\n",
       "      <td>농산물</td>\n",
       "      <td>14380</td>\n",
       "      <td>5011000078068400</td>\n",
       "    </tr>\n",
       "    <tr>\n",
       "      <th>0</th>\n",
       "      <td>기타식품</td>\n",
       "      <td>96</td>\n",
       "      <td>4127100048006400</td>\n",
       "    </tr>\n",
       "    <tr>\n",
       "      <th>0</th>\n",
       "      <td>농산물</td>\n",
       "      <td>492</td>\n",
       "      <td>5013000778073200</td>\n",
       "    </tr>\n",
       "    <tr>\n",
       "      <th>...</th>\n",
       "      <td>...</td>\n",
       "      <td>...</td>\n",
       "      <td>...</td>\n",
       "    </tr>\n",
       "    <tr>\n",
       "      <th>0</th>\n",
       "      <td>기타패션잡화</td>\n",
       "      <td>9</td>\n",
       "      <td>4113300019005400</td>\n",
       "    </tr>\n",
       "    <tr>\n",
       "      <th>0</th>\n",
       "      <td>침구세트</td>\n",
       "      <td>4</td>\n",
       "      <td>4873000294001400</td>\n",
       "    </tr>\n",
       "    <tr>\n",
       "      <th>0</th>\n",
       "      <td>기타패션잡화</td>\n",
       "      <td>105</td>\n",
       "      <td>2638000008087200</td>\n",
       "    </tr>\n",
       "    <tr>\n",
       "      <th>0</th>\n",
       "      <td>스마트디바이스액세서리</td>\n",
       "      <td>3</td>\n",
       "      <td>1120000013030100</td>\n",
       "    </tr>\n",
       "    <tr>\n",
       "      <th>0</th>\n",
       "      <td>세탁용품</td>\n",
       "      <td>4</td>\n",
       "      <td>2811000139076100</td>\n",
       "    </tr>\n",
       "  </tbody>\n",
       "</table>\n",
       "<p>4229 rows × 3 columns</p>\n",
       "</div>"
      ],
      "text/plain": [
       "           prod    cnt                id\n",
       "0            음반   1652  5011000595017300\n",
       "0         문화컨텐츠    383  4148000690043300\n",
       "0           농산물  14380  5011000078068400\n",
       "0          기타식품     96  4127100048006400\n",
       "0           농산물    492  5013000778073200\n",
       "..          ...    ...               ...\n",
       "0        기타패션잡화      9  4113300019005400\n",
       "0          침구세트      4  4873000294001400\n",
       "0        기타패션잡화    105  2638000008087200\n",
       "0   스마트디바이스액세서리      3  1120000013030100\n",
       "0          세탁용품      4  2811000139076100\n",
       "\n",
       "[4229 rows x 3 columns]"
      ]
     },
     "execution_count": 43,
     "metadata": {},
     "output_type": "execute_result"
    }
   ],
   "source": [
    "df_accum_start"
   ]
  },
  {
   "cell_type": "markdown",
   "id": "c3e979a4",
   "metadata": {},
   "source": [
    "모든 출발 배송 지역에 대해서 상위 조건을 수행하기위한 for문을 작성한다 "
   ]
  },
  {
   "cell_type": "code",
   "execution_count": 44,
   "id": "33a17d1d",
   "metadata": {},
   "outputs": [
    {
     "data": {
      "text/html": [
       "<div>\n",
       "<style scoped>\n",
       "    .dataframe tbody tr th:only-of-type {\n",
       "        vertical-align: middle;\n",
       "    }\n",
       "\n",
       "    .dataframe tbody tr th {\n",
       "        vertical-align: top;\n",
       "    }\n",
       "\n",
       "    .dataframe thead th {\n",
       "        text-align: right;\n",
       "    }\n",
       "</style>\n",
       "<table border=\"1\" class=\"dataframe\">\n",
       "  <thead>\n",
       "    <tr style=\"text-align: right;\">\n",
       "      <th></th>\n",
       "      <th>prod</th>\n",
       "      <th>total</th>\n",
       "    </tr>\n",
       "  </thead>\n",
       "  <tbody>\n",
       "    <tr>\n",
       "      <th>0</th>\n",
       "      <td>DIY자재/용품</td>\n",
       "      <td>150</td>\n",
       "    </tr>\n",
       "    <tr>\n",
       "      <th>1</th>\n",
       "      <td>PC</td>\n",
       "      <td>200</td>\n",
       "    </tr>\n",
       "    <tr>\n",
       "      <th>2</th>\n",
       "      <td>PC주변기기</td>\n",
       "      <td>30</td>\n",
       "    </tr>\n",
       "    <tr>\n",
       "      <th>3</th>\n",
       "      <td>가공식품</td>\n",
       "      <td>5766</td>\n",
       "    </tr>\n",
       "    <tr>\n",
       "      <th>4</th>\n",
       "      <td>가방</td>\n",
       "      <td>26</td>\n",
       "    </tr>\n",
       "  </tbody>\n",
       "</table>\n",
       "</div>"
      ],
      "text/plain": [
       "       prod  total\n",
       "0  DIY자재/용품    150\n",
       "1        PC    200\n",
       "2    PC주변기기     30\n",
       "3      가공식품   5766\n",
       "4        가방     26"
      ]
     },
     "execution_count": 44,
     "metadata": {},
     "output_type": "execute_result"
    }
   ],
   "source": [
    "df_prod_sum = pd.DataFrame(df.groupby('prod', as_index = False)['cnt'].sum())\n",
    "df_prod_sum.columns = ['prod', 'total']\n",
    "df_prod_sum.head(5)"
   ]
  },
  {
   "cell_type": "markdown",
   "id": "acee989c",
   "metadata": {},
   "source": [
    "물품별 전체 배송량 데이터를 생성한다"
   ]
  },
  {
   "cell_type": "code",
   "execution_count": 45,
   "id": "bc0677fb",
   "metadata": {},
   "outputs": [
    {
     "data": {
      "text/html": [
       "<div>\n",
       "<style scoped>\n",
       "    .dataframe tbody tr th:only-of-type {\n",
       "        vertical-align: middle;\n",
       "    }\n",
       "\n",
       "    .dataframe tbody tr th {\n",
       "        vertical-align: top;\n",
       "    }\n",
       "\n",
       "    .dataframe thead th {\n",
       "        text-align: right;\n",
       "    }\n",
       "</style>\n",
       "<table border=\"1\" class=\"dataframe\">\n",
       "  <thead>\n",
       "    <tr style=\"text-align: right;\">\n",
       "      <th></th>\n",
       "      <th>id</th>\n",
       "      <th>prod</th>\n",
       "      <th>cnt</th>\n",
       "      <th>total</th>\n",
       "    </tr>\n",
       "  </thead>\n",
       "  <tbody>\n",
       "    <tr>\n",
       "      <th>0</th>\n",
       "      <td>5011000595017300</td>\n",
       "      <td>음반</td>\n",
       "      <td>1652</td>\n",
       "      <td>2357</td>\n",
       "    </tr>\n",
       "    <tr>\n",
       "      <th>1</th>\n",
       "      <td>4148000690043300</td>\n",
       "      <td>문화컨텐츠</td>\n",
       "      <td>383</td>\n",
       "      <td>5429</td>\n",
       "    </tr>\n",
       "    <tr>\n",
       "      <th>2</th>\n",
       "      <td>5011000078068400</td>\n",
       "      <td>농산물</td>\n",
       "      <td>14380</td>\n",
       "      <td>87829</td>\n",
       "    </tr>\n",
       "    <tr>\n",
       "      <th>3</th>\n",
       "      <td>4127100048006400</td>\n",
       "      <td>기타식품</td>\n",
       "      <td>96</td>\n",
       "      <td>4250</td>\n",
       "    </tr>\n",
       "    <tr>\n",
       "      <th>4</th>\n",
       "      <td>5013000778073200</td>\n",
       "      <td>농산물</td>\n",
       "      <td>492</td>\n",
       "      <td>87829</td>\n",
       "    </tr>\n",
       "  </tbody>\n",
       "</table>\n",
       "</div>"
      ],
      "text/plain": [
       "                 id   prod    cnt  total\n",
       "0  5011000595017300     음반   1652   2357\n",
       "1  4148000690043300  문화컨텐츠    383   5429\n",
       "2  5011000078068400    농산물  14380  87829\n",
       "3  4127100048006400   기타식품     96   4250\n",
       "4  5013000778073200    농산물    492  87829"
      ]
     },
     "execution_count": 45,
     "metadata": {},
     "output_type": "execute_result"
    }
   ],
   "source": [
    "df_merge = pd.merge(df_accum_start, df_prod_sum, how='left', on='prod')\n",
    "df_merge = df_merge[['id', 'prod', 'cnt', 'total']]\n",
    "df_merge.head(5)"
   ]
  },
  {
   "cell_type": "code",
   "execution_count": 46,
   "id": "44e2493d",
   "metadata": {},
   "outputs": [
    {
     "data": {
      "text/html": [
       "<div>\n",
       "<style scoped>\n",
       "    .dataframe tbody tr th:only-of-type {\n",
       "        vertical-align: middle;\n",
       "    }\n",
       "\n",
       "    .dataframe tbody tr th {\n",
       "        vertical-align: top;\n",
       "    }\n",
       "\n",
       "    .dataframe thead th {\n",
       "        text-align: right;\n",
       "    }\n",
       "</style>\n",
       "<table border=\"1\" class=\"dataframe\">\n",
       "  <thead>\n",
       "    <tr style=\"text-align: right;\">\n",
       "      <th></th>\n",
       "      <th>id</th>\n",
       "      <th>prod</th>\n",
       "      <th>cnt</th>\n",
       "      <th>total</th>\n",
       "      <th>ratio</th>\n",
       "    </tr>\n",
       "  </thead>\n",
       "  <tbody>\n",
       "    <tr>\n",
       "      <th>0</th>\n",
       "      <td>5011000595017300</td>\n",
       "      <td>음반</td>\n",
       "      <td>1652</td>\n",
       "      <td>2357</td>\n",
       "      <td>0.700891</td>\n",
       "    </tr>\n",
       "    <tr>\n",
       "      <th>1</th>\n",
       "      <td>4148000690043300</td>\n",
       "      <td>문화컨텐츠</td>\n",
       "      <td>383</td>\n",
       "      <td>5429</td>\n",
       "      <td>0.070547</td>\n",
       "    </tr>\n",
       "    <tr>\n",
       "      <th>2</th>\n",
       "      <td>5011000078068400</td>\n",
       "      <td>농산물</td>\n",
       "      <td>14380</td>\n",
       "      <td>87829</td>\n",
       "      <td>0.163727</td>\n",
       "    </tr>\n",
       "    <tr>\n",
       "      <th>3</th>\n",
       "      <td>4127100048006400</td>\n",
       "      <td>기타식품</td>\n",
       "      <td>96</td>\n",
       "      <td>4250</td>\n",
       "      <td>0.022588</td>\n",
       "    </tr>\n",
       "    <tr>\n",
       "      <th>4</th>\n",
       "      <td>5013000778073200</td>\n",
       "      <td>농산물</td>\n",
       "      <td>492</td>\n",
       "      <td>87829</td>\n",
       "      <td>0.005602</td>\n",
       "    </tr>\n",
       "  </tbody>\n",
       "</table>\n",
       "</div>"
      ],
      "text/plain": [
       "                 id   prod    cnt  total     ratio\n",
       "0  5011000595017300     음반   1652   2357  0.700891\n",
       "1  4148000690043300  문화컨텐츠    383   5429  0.070547\n",
       "2  5011000078068400    농산물  14380  87829  0.163727\n",
       "3  4127100048006400   기타식품     96   4250  0.022588\n",
       "4  5013000778073200    농산물    492  87829  0.005602"
      ]
     },
     "execution_count": 46,
     "metadata": {},
     "output_type": "execute_result"
    }
   ],
   "source": [
    "df_merge['ratio'] = df_merge['cnt'] / df_merge['total']\n",
    "df_merge.head(5)"
   ]
  },
  {
   "cell_type": "markdown",
   "id": "e0721b8f",
   "metadata": {},
   "source": [
    "전체 물품 배송량중 몇 퍼센트를 싣고 떠나는지 분석을 통해 차량 배차가 가능해진다"
   ]
  },
  {
   "cell_type": "code",
   "execution_count": 47,
   "id": "aedff5fd",
   "metadata": {},
   "outputs": [
    {
     "data": {
      "text/html": [
       "<div>\n",
       "<style scoped>\n",
       "    .dataframe tbody tr th:only-of-type {\n",
       "        vertical-align: middle;\n",
       "    }\n",
       "\n",
       "    .dataframe tbody tr th {\n",
       "        vertical-align: top;\n",
       "    }\n",
       "\n",
       "    .dataframe thead th {\n",
       "        text-align: right;\n",
       "    }\n",
       "</style>\n",
       "<table border=\"1\" class=\"dataframe\">\n",
       "  <thead>\n",
       "    <tr style=\"text-align: right;\">\n",
       "      <th></th>\n",
       "      <th>id</th>\n",
       "      <th>prod</th>\n",
       "      <th>cnt</th>\n",
       "      <th>total</th>\n",
       "      <th>ratio</th>\n",
       "    </tr>\n",
       "  </thead>\n",
       "  <tbody>\n",
       "    <tr>\n",
       "      <th>0</th>\n",
       "      <td>5011000595017300</td>\n",
       "      <td>음반</td>\n",
       "      <td>1652</td>\n",
       "      <td>2357</td>\n",
       "      <td>0.700891</td>\n",
       "    </tr>\n",
       "    <tr>\n",
       "      <th>57</th>\n",
       "      <td>4148000427007400</td>\n",
       "      <td>출산/유아동의류</td>\n",
       "      <td>23</td>\n",
       "      <td>30</td>\n",
       "      <td>0.766667</td>\n",
       "    </tr>\n",
       "    <tr>\n",
       "      <th>70</th>\n",
       "      <td>4148000690015300</td>\n",
       "      <td>문화컨텐츠</td>\n",
       "      <td>3064</td>\n",
       "      <td>5429</td>\n",
       "      <td>0.564376</td>\n",
       "    </tr>\n",
       "    <tr>\n",
       "      <th>96</th>\n",
       "      <td>1117000009037100</td>\n",
       "      <td>기타디지털/가전</td>\n",
       "      <td>837</td>\n",
       "      <td>1505</td>\n",
       "      <td>0.556146</td>\n",
       "    </tr>\n",
       "    <tr>\n",
       "      <th>359</th>\n",
       "      <td>4127300022051100</td>\n",
       "      <td>위생/건강용품</td>\n",
       "      <td>135</td>\n",
       "      <td>249</td>\n",
       "      <td>0.542169</td>\n",
       "    </tr>\n",
       "    <tr>\n",
       "      <th>457</th>\n",
       "      <td>5011000320025200</td>\n",
       "      <td>네일케어</td>\n",
       "      <td>35</td>\n",
       "      <td>69</td>\n",
       "      <td>0.507246</td>\n",
       "    </tr>\n",
       "    <tr>\n",
       "      <th>584</th>\n",
       "      <td>4873000228047300</td>\n",
       "      <td>낚시</td>\n",
       "      <td>316</td>\n",
       "      <td>386</td>\n",
       "      <td>0.818653</td>\n",
       "    </tr>\n",
       "    <tr>\n",
       "      <th>596</th>\n",
       "      <td>4150000196034300</td>\n",
       "      <td>다이어트식품</td>\n",
       "      <td>419</td>\n",
       "      <td>619</td>\n",
       "      <td>0.676898</td>\n",
       "    </tr>\n",
       "    <tr>\n",
       "      <th>1109</th>\n",
       "      <td>4117300018005400</td>\n",
       "      <td>기타패션의류</td>\n",
       "      <td>1605</td>\n",
       "      <td>3042</td>\n",
       "      <td>0.527613</td>\n",
       "    </tr>\n",
       "    <tr>\n",
       "      <th>1129</th>\n",
       "      <td>4413300143027400</td>\n",
       "      <td>신발</td>\n",
       "      <td>392</td>\n",
       "      <td>637</td>\n",
       "      <td>0.615385</td>\n",
       "    </tr>\n",
       "    <tr>\n",
       "      <th>1179</th>\n",
       "      <td>3020000121041200</td>\n",
       "      <td>선글라스/안경테</td>\n",
       "      <td>14</td>\n",
       "      <td>27</td>\n",
       "      <td>0.518519</td>\n",
       "    </tr>\n",
       "    <tr>\n",
       "      <th>1290</th>\n",
       "      <td>4122000009040300</td>\n",
       "      <td>캠핑</td>\n",
       "      <td>25</td>\n",
       "      <td>43</td>\n",
       "      <td>0.581395</td>\n",
       "    </tr>\n",
       "    <tr>\n",
       "      <th>1504</th>\n",
       "      <td>4155000331094100</td>\n",
       "      <td>기타출산/육아</td>\n",
       "      <td>12</td>\n",
       "      <td>22</td>\n",
       "      <td>0.545455</td>\n",
       "    </tr>\n",
       "    <tr>\n",
       "      <th>1813</th>\n",
       "      <td>4374500066090200</td>\n",
       "      <td>태블릿PC/노트북액세서리</td>\n",
       "      <td>25</td>\n",
       "      <td>40</td>\n",
       "      <td>0.625000</td>\n",
       "    </tr>\n",
       "    <tr>\n",
       "      <th>1927</th>\n",
       "      <td>4139000127044300</td>\n",
       "      <td>게임기/타이틀</td>\n",
       "      <td>60</td>\n",
       "      <td>87</td>\n",
       "      <td>0.689655</td>\n",
       "    </tr>\n",
       "    <tr>\n",
       "      <th>4226</th>\n",
       "      <td>2638000008087200</td>\n",
       "      <td>기타패션잡화</td>\n",
       "      <td>105</td>\n",
       "      <td>152</td>\n",
       "      <td>0.690789</td>\n",
       "    </tr>\n",
       "  </tbody>\n",
       "</table>\n",
       "</div>"
      ],
      "text/plain": [
       "                    id           prod   cnt  total     ratio\n",
       "0     5011000595017300             음반  1652   2357  0.700891\n",
       "57    4148000427007400       출산/유아동의류    23     30  0.766667\n",
       "70    4148000690015300          문화컨텐츠  3064   5429  0.564376\n",
       "96    1117000009037100       기타디지털/가전   837   1505  0.556146\n",
       "359   4127300022051100        위생/건강용품   135    249  0.542169\n",
       "457   5011000320025200           네일케어    35     69  0.507246\n",
       "584   4873000228047300             낚시   316    386  0.818653\n",
       "596   4150000196034300         다이어트식품   419    619  0.676898\n",
       "1109  4117300018005400         기타패션의류  1605   3042  0.527613\n",
       "1129  4413300143027400             신발   392    637  0.615385\n",
       "1179  3020000121041200       선글라스/안경테    14     27  0.518519\n",
       "1290  4122000009040300             캠핑    25     43  0.581395\n",
       "1504  4155000331094100        기타출산/육아    12     22  0.545455\n",
       "1813  4374500066090200  태블릿PC/노트북액세서리    25     40  0.625000\n",
       "1927  4139000127044300        게임기/타이틀    60     87  0.689655\n",
       "4226  2638000008087200         기타패션잡화   105    152  0.690789"
      ]
     },
     "execution_count": 47,
     "metadata": {},
     "output_type": "execute_result"
    }
   ],
   "source": [
    "df_merge[df_merge['ratio'] > 0.50]"
   ]
  },
  {
   "cell_type": "markdown",
   "id": "8b2313fa",
   "metadata": {},
   "source": [
    "전체 물품 중 적어도 50% 이상을 출발시키는 곳에 특정 배차를 할 수 있을 것이다"
   ]
  },
  {
   "cell_type": "markdown",
   "id": "18e01050",
   "metadata": {},
   "source": [
    "## ML 활용 유통량 예측"
   ]
  },
  {
   "cell_type": "code",
   "execution_count": 48,
   "id": "16134e10",
   "metadata": {},
   "outputs": [
    {
     "name": "stdout",
     "output_type": "stream",
     "text": [
      "(19010, 3)\n",
      "(19010,)\n",
      "(12674, 3)\n",
      "(12674,)\n"
     ]
    }
   ],
   "source": [
    "from sklearn.model_selection import train_test_split\n",
    "from sklearn.ensemble import RandomForestRegressor\n",
    "from sklearn import metrics\n",
    "\n",
    "X=df.drop(['index', 'cnt'], axis=1)\n",
    "Y=df['cnt']\n",
    "\n",
    "x_train, x_test, y_train, y_test = train_test_split(X, Y, test_size=0.4, random_state=1239)\n",
    "\n",
    "print(x_train.shape)\n",
    "print(y_train.shape)\n",
    "\n",
    "print(x_test.shape)\n",
    "print(y_test.shape)"
   ]
  },
  {
   "cell_type": "code",
   "execution_count": 49,
   "id": "ddeff6cb",
   "metadata": {},
   "outputs": [],
   "source": [
    "from sklearn.preprocessing import LabelEncoder\n",
    "\n",
    "le = LabelEncoder()\n",
    "le.fit(list(x_train['prod'].values) + list(x_test['prod'].values))\n",
    "x_train['prod'] = le.transform(x_train['prod'])\n",
    "x_test['prod'] = le.transform(x_test['prod'])"
   ]
  },
  {
   "cell_type": "markdown",
   "id": "d36deffd",
   "metadata": {},
   "source": [
    "범주형 변수는 One-hot-encoding 또는 Label-encoding을 통해 숫자형 변수로 변경해야한다. One-hot-encoding은 차원이 많은 변수에는 적절하지 않고, Label-encoding은 차원이 많은 변수에 유용하기 때문에 Label-encoding을 진행한다"
   ]
  },
  {
   "cell_type": "code",
   "execution_count": 50,
   "id": "99170ee3",
   "metadata": {},
   "outputs": [
    {
     "data": {
      "text/plain": [
       "17822    27\n",
       "2269     51\n",
       "37       27\n",
       "24369    27\n",
       "17187    27\n",
       "Name: prod, dtype: int32"
      ]
     },
     "execution_count": 50,
     "metadata": {},
     "output_type": "execute_result"
    }
   ],
   "source": [
    "x_test['prod'].head(5)"
   ]
  },
  {
   "cell_type": "code",
   "execution_count": 51,
   "id": "a3f2574c",
   "metadata": {},
   "outputs": [
    {
     "data": {
      "text/plain": [
       "RandomForestRegressor(max_depth=8, n_estimators=300)"
      ]
     },
     "execution_count": 51,
     "metadata": {},
     "output_type": "execute_result"
    }
   ],
   "source": [
    "rfr = RandomForestRegressor(n_estimators=300, max_depth=8)\n",
    "rfr.fit(x_train, y_train)"
   ]
  },
  {
   "cell_type": "code",
   "execution_count": 52,
   "id": "ea5db6fb",
   "metadata": {},
   "outputs": [
    {
     "name": "stdout",
     "output_type": "stream",
     "text": [
      "mae_train(mae):  2.198746305310656\n",
      "r2_score(r2):  0.301436076579368\n",
      "\n",
      "mae_test(mae):  2.3021036002495356\n",
      "r2_score(r2):  0.22272790109313056\n"
     ]
    }
   ],
   "source": [
    "import numpy as np\n",
    "from sklearn.metrics import mean_absolute_error, r2_score\n",
    "y_pred_train = rfr.predict(x_train)\n",
    "y_pred_test = rfr.predict(x_test)\n",
    "\n",
    "\n",
    "mae_train = mean_absolute_error(y_train, y_pred_train)\n",
    "print('mae_train(mae): ', mae_train)\n",
    "r2_train = r2_score(y_train, y_pred_train)\n",
    "print('r2_score(r2): ', r2_train)\n",
    "print('')\n",
    "mae_test = mean_absolute_error(y_test, y_pred_test)\n",
    "print('mae_test(mae): ', mae_test)\n",
    "r2_test = r2_score(y_test, y_pred_test)\n",
    "print('r2_score(r2): ', r2_test)"
   ]
  },
  {
   "cell_type": "markdown",
   "id": "55865575",
   "metadata": {},
   "source": [
    "실제값과 예측값이 약 2.3정도 차이가 나고, 모델 설명력은 약 22%로 좋은 모델은 아니다"
   ]
  },
  {
   "cell_type": "code",
   "execution_count": 53,
   "id": "bf7cbfd9",
   "metadata": {},
   "outputs": [
    {
     "data": {
      "text/html": [
       "<div>\n",
       "<style scoped>\n",
       "    .dataframe tbody tr th:only-of-type {\n",
       "        vertical-align: middle;\n",
       "    }\n",
       "\n",
       "    .dataframe tbody tr th {\n",
       "        vertical-align: top;\n",
       "    }\n",
       "\n",
       "    .dataframe thead th {\n",
       "        text-align: right;\n",
       "    }\n",
       "</style>\n",
       "<table border=\"1\" class=\"dataframe\">\n",
       "  <thead>\n",
       "    <tr style=\"text-align: right;\">\n",
       "      <th></th>\n",
       "      <th>Real Values</th>\n",
       "      <th>Predicted Values</th>\n",
       "      <th>diff</th>\n",
       "    </tr>\n",
       "  </thead>\n",
       "  <tbody>\n",
       "    <tr>\n",
       "      <th>17822</th>\n",
       "      <td>3</td>\n",
       "      <td>3.94421</td>\n",
       "      <td>-0.94421</td>\n",
       "    </tr>\n",
       "    <tr>\n",
       "      <th>2269</th>\n",
       "      <td>10</td>\n",
       "      <td>5.48819</td>\n",
       "      <td>4.51181</td>\n",
       "    </tr>\n",
       "    <tr>\n",
       "      <th>37</th>\n",
       "      <td>3</td>\n",
       "      <td>3.63750</td>\n",
       "      <td>-0.63750</td>\n",
       "    </tr>\n",
       "    <tr>\n",
       "      <th>24369</th>\n",
       "      <td>12</td>\n",
       "      <td>4.22152</td>\n",
       "      <td>7.77848</td>\n",
       "    </tr>\n",
       "    <tr>\n",
       "      <th>17187</th>\n",
       "      <td>3</td>\n",
       "      <td>4.25489</td>\n",
       "      <td>-1.25489</td>\n",
       "    </tr>\n",
       "    <tr>\n",
       "      <th>23981</th>\n",
       "      <td>3</td>\n",
       "      <td>5.11222</td>\n",
       "      <td>-2.11222</td>\n",
       "    </tr>\n",
       "    <tr>\n",
       "      <th>24832</th>\n",
       "      <td>10</td>\n",
       "      <td>3.90298</td>\n",
       "      <td>6.09702</td>\n",
       "    </tr>\n",
       "    <tr>\n",
       "      <th>11358</th>\n",
       "      <td>3</td>\n",
       "      <td>5.42713</td>\n",
       "      <td>-2.42713</td>\n",
       "    </tr>\n",
       "    <tr>\n",
       "      <th>12473</th>\n",
       "      <td>4</td>\n",
       "      <td>9.61354</td>\n",
       "      <td>-5.61354</td>\n",
       "    </tr>\n",
       "    <tr>\n",
       "      <th>19441</th>\n",
       "      <td>3</td>\n",
       "      <td>4.54785</td>\n",
       "      <td>-1.54785</td>\n",
       "    </tr>\n",
       "  </tbody>\n",
       "</table>\n",
       "</div>"
      ],
      "text/plain": [
       "       Real Values  Predicted Values     diff\n",
       "17822            3           3.94421 -0.94421\n",
       "2269            10           5.48819  4.51181\n",
       "37               3           3.63750 -0.63750\n",
       "24369           12           4.22152  7.77848\n",
       "17187            3           4.25489 -1.25489\n",
       "23981            3           5.11222 -2.11222\n",
       "24832           10           3.90298  6.09702\n",
       "11358            3           5.42713 -2.42713\n",
       "12473            4           9.61354 -5.61354\n",
       "19441            3           4.54785 -1.54785"
      ]
     },
     "execution_count": 53,
     "metadata": {},
     "output_type": "execute_result"
    }
   ],
   "source": [
    "pd.options.display.float_format = '{:.5f}'.format\n",
    "result = pd.DataFrame({'Real Values':y_test, 'Predicted Values':y_pred_test})\n",
    "result['diff'] = result['Real Values'] - result['Predicted Values']\n",
    "result.head(10)"
   ]
  },
  {
   "cell_type": "code",
   "execution_count": 54,
   "id": "bd03abfd",
   "metadata": {},
   "outputs": [
    {
     "data": {
      "text/html": [
       "<div>\n",
       "<style scoped>\n",
       "    .dataframe tbody tr th:only-of-type {\n",
       "        vertical-align: middle;\n",
       "    }\n",
       "\n",
       "    .dataframe tbody tr th {\n",
       "        vertical-align: top;\n",
       "    }\n",
       "\n",
       "    .dataframe thead th {\n",
       "        text-align: right;\n",
       "    }\n",
       "</style>\n",
       "<table border=\"1\" class=\"dataframe\">\n",
       "  <thead>\n",
       "    <tr style=\"text-align: right;\">\n",
       "      <th></th>\n",
       "      <th>Real Values</th>\n",
       "      <th>Predicted Values</th>\n",
       "      <th>diff</th>\n",
       "    </tr>\n",
       "  </thead>\n",
       "  <tbody>\n",
       "    <tr>\n",
       "      <th>23314</th>\n",
       "      <td>109</td>\n",
       "      <td>7.76870</td>\n",
       "      <td>101.23130</td>\n",
       "    </tr>\n",
       "    <tr>\n",
       "      <th>22050</th>\n",
       "      <td>68</td>\n",
       "      <td>5.53637</td>\n",
       "      <td>62.46363</td>\n",
       "    </tr>\n",
       "    <tr>\n",
       "      <th>9417</th>\n",
       "      <td>30</td>\n",
       "      <td>9.27182</td>\n",
       "      <td>20.72818</td>\n",
       "    </tr>\n",
       "    <tr>\n",
       "      <th>8971</th>\n",
       "      <td>32</td>\n",
       "      <td>5.97624</td>\n",
       "      <td>26.02376</td>\n",
       "    </tr>\n",
       "    <tr>\n",
       "      <th>30697</th>\n",
       "      <td>29</td>\n",
       "      <td>5.11056</td>\n",
       "      <td>23.88944</td>\n",
       "    </tr>\n",
       "    <tr>\n",
       "      <th>...</th>\n",
       "      <td>...</td>\n",
       "      <td>...</td>\n",
       "      <td>...</td>\n",
       "    </tr>\n",
       "    <tr>\n",
       "      <th>8658</th>\n",
       "      <td>32</td>\n",
       "      <td>4.24175</td>\n",
       "      <td>27.75825</td>\n",
       "    </tr>\n",
       "    <tr>\n",
       "      <th>8366</th>\n",
       "      <td>27</td>\n",
       "      <td>5.04615</td>\n",
       "      <td>21.95385</td>\n",
       "    </tr>\n",
       "    <tr>\n",
       "      <th>11596</th>\n",
       "      <td>33</td>\n",
       "      <td>6.23307</td>\n",
       "      <td>26.76693</td>\n",
       "    </tr>\n",
       "    <tr>\n",
       "      <th>24382</th>\n",
       "      <td>44</td>\n",
       "      <td>6.66642</td>\n",
       "      <td>37.33358</td>\n",
       "    </tr>\n",
       "    <tr>\n",
       "      <th>21006</th>\n",
       "      <td>30</td>\n",
       "      <td>4.12044</td>\n",
       "      <td>25.87956</td>\n",
       "    </tr>\n",
       "  </tbody>\n",
       "</table>\n",
       "<p>137 rows × 3 columns</p>\n",
       "</div>"
      ],
      "text/plain": [
       "       Real Values  Predicted Values      diff\n",
       "23314          109           7.76870 101.23130\n",
       "22050           68           5.53637  62.46363\n",
       "9417            30           9.27182  20.72818\n",
       "8971            32           5.97624  26.02376\n",
       "30697           29           5.11056  23.88944\n",
       "...            ...               ...       ...\n",
       "8658            32           4.24175  27.75825\n",
       "8366            27           5.04615  21.95385\n",
       "11596           33           6.23307  26.76693\n",
       "24382           44           6.66642  37.33358\n",
       "21006           30           4.12044  25.87956\n",
       "\n",
       "[137 rows x 3 columns]"
      ]
     },
     "execution_count": 54,
     "metadata": {},
     "output_type": "execute_result"
    }
   ],
   "source": [
    "result[result['diff']>20]"
   ]
  },
  {
   "cell_type": "markdown",
   "id": "30ca7b6d",
   "metadata": {},
   "source": [
    "성능이 좋지 않을 때는 해당 지역에 평균 배송량을 사용하는 것이 좋은 판단일 수 있다"
   ]
  },
  {
   "cell_type": "code",
   "execution_count": 56,
   "id": "fb750bec",
   "metadata": {},
   "outputs": [
    {
     "data": {
      "image/png": "[encoded data removed]",
      "text/plain": [
       "<Figure size 800x600 with 1 Axes>"
      ]
     },
     "metadata": {},
     "output_type": "display_data"
    }
   ],
   "source": [
    "ftr_importances_values = rfr.feature_importances_\n",
    "ftr_importances = pd.Series(ftr_importances_values, index = x_train.columns)\n",
    "ftr_top20 = ftr_importances.sort_values(ascending=False)[:20]\n",
    "\n",
    "plt.figure(figsize=(8,6))\n",
    "plt.title('Feature Importances')\n",
    "sns.barplot(x=ftr_top20, y=ftr_top20.index)\n",
    "plt.show()"
   ]
  },
  {
   "cell_type": "markdown",
   "id": "fbde0d99",
   "metadata": {},
   "source": [
    "Feature IMP 분석을 통해 중요변수를 파악한다. 위의 상위 변수들을 살펴보면, start(출발지)가 물류 유통량을 예측하는데 가장 중요한 변수임을 확인할 수 있다. 따라서 start(출발지)를 주의 깊게 살펴가면서 예측을 진행하는 것이 좋은 판단이다\n",
    "\n",
    "해당 데이터는 모든 변수가 중요성을 띄고 있으므로 하위 변수들을 제거하고 다시 모델링하는 것은 좋지않다"
   ]
  },
  {
   "cell_type": "markdown",
   "id": "a2c0035f",
   "metadata": {},
   "source": [
    "성과측정은 기본 베이스 코드(위의 전체 코드)를 가지고 익월 데이터를 추가 업로드해서 성과비교가 필요하다. 예를 들어, 위의 데이터로 예측한 물류 유통량을 기반으로 배송 운영 후 Claim건수를 모니터링하여 비교하는 것이다"
   ]
  }
 ],
 "metadata": {
  "kernelspec": {
   "display_name": "Python 3 (ipykernel)",
   "language": "python",
   "name": "python3"
  },
  "language_info": {
   "codemirror_mode": {
    "name": "ipython",
    "version": 3
   },
   "file_extension": ".py",
   "mimetype": "text/x-python",
   "name": "python",
   "nbconvert_exporter": "python",
   "pygments_lexer": "ipython3",
   "version": "3.7.13"
  }
 },
 "nbformat": 4,
 "nbformat_minor": 5
}
